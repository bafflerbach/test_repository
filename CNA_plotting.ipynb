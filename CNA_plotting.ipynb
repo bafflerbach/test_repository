{
 "cells": [
  {
   "cell_type": "code",
   "execution_count": 1,
   "metadata": {},
   "outputs": [],
   "source": [
    "%matplotlib widget\n",
    "# %matplotlib qt\n",
    "import matplotlib.pyplot as plt\n",
    "import pandas as pd\n",
    "import os\n",
    "import numpy as np\n",
    "from scipy import stats"
   ]
  },
  {
   "cell_type": "code",
   "execution_count": 2,
   "metadata": {},
   "outputs": [],
   "source": [
    "data = {}\n",
    "for dirpath, dirnames, filenames in os.walk(\".\"):\n",
    "    for filename in [f for f in filenames if f.endswith(\"CNA.txt\")]:\n",
    "        \n",
    "        cna_path = os.path.join(dirpath, filename)\n",
    "#         print(cna_path)\n",
    "        \n",
    "        data_name = \"%s\" % (dirpath[2:])\n",
    "#         print(data_name)\n",
    "        \n",
    "        col_names = [\"Timestep\",\"FCC\",\"BCC\",\"HCP\",\"ICO\",\"OTHER\",\"Frame\",\"SourceFrame\"]\n",
    "        #names=col_names\n",
    "        data[data_name]=pd.read_table(cna_path,delim_whitespace=True,names=col_names,skiprows=1)\n",
    "        "
   ]
  },
  {
   "cell_type": "code",
   "execution_count": 3,
   "metadata": {},
   "outputs": [
    {
     "data": {
      "application/vnd.jupyter.widget-view+json": {
       "model_id": "7970e7ab18ba46e7a7b638c207dad619",
       "version_major": 2,
       "version_minor": 0
      },
      "text/plain": [
       "FigureCanvasNbAgg()"
      ]
     },
     "metadata": {},
     "output_type": "display_data"
    },
    {
     "name": "stdout",
     "output_type": "stream",
     "text": [
      "delay times 50pct (ps): [ 164.  482.  372.  797.  950. 1000.  174.  332.  354.  196.  324.  681.\n",
      "  271.  249.  522.  129.  346.  533.  620.  138.  308.  168. 1000.  793.\n",
      "  297.  646.  502.  283.  198.  338.  450.  576.  655.  445.  139. 1000.\n",
      "  545.  258.  982.  619.  237.  282.  527.  407.  328.  198. 1000.  654.\n",
      "  268.  414.  377. 1000.  152.  592.  116.  634.  682.  574.  997. 1000.\n",
      " 1000.  431.  546.  522.  414.  227.  349.  233. 1000.  433.  298.  497.\n",
      "  308.  281.  629.  112.  215.  299.  305.  133.  197.  153.  281.  178.\n",
      "  317.   98.  243.  388.  534.  346.  430.  115.  126.  588.  535.  114.\n",
      " 1000.  271. 1000.  534.]\n",
      "delay time 50pct average (ps): 449.55\n",
      "delay time 50pct stdev (ps): 268.3994551037688\n",
      "delay times first nucl (ps): [  146.   460.   357.   746.   902.   500.   164.   308.   310.   187.\n",
      "   118.   640.   258.   228.   497.    65.   328.   519.   596.   121.\n",
      "   297.   142.   500.  -170.   280.   625.   484.   267.   177.   321.\n",
      "   428.   563.   638.   424.   120.   500.   482.   174. -3784.   605.\n",
      "   223.   265.   513.   397.   287.   182.   500.   620.   257.   394.\n",
      "   232.   500.   113.   575.   101.   620.   672.   547.   964.   500.\n",
      "   500.   417.   530.   484.   396.   209.   315.   221.   500.   421.\n",
      "   272.   467.   233.   268.   616.    98.   187.   251.   292.   114.\n",
      "   175.   137.   260.   155.   306.    87.   229.   355.   516.   330.\n",
      "   415.   100.   105.   569.   519.   102.   500.   259.   500.   522.]\n",
      "delay time first nucl average (ps): 319.17\n",
      "delay time first nucl stdev (ps): 456.2419326410057\n"
     ]
    }
   ],
   "source": [
    "fig1,ax1 = plt.subplots(20,5,sharex=True,sharey=True)\n",
    "ax1[0][0].locator_params(nbins=4,axis='x')\n",
    "ax1[0][0].locator_params(nbins=2,axis='y')\n",
    "count = 1\n",
    "delay_50_2048atom = np.zeros(100)\n",
    "delay_10_2048atom = np.zeros(100)\n",
    "delay_first_nucl_2048atom = np.zeros(100)\n",
    "for i in range(20):\n",
    "    for i2 in range (5):\n",
    "        x = data['2048atom%s' % count][\"Timestep\"].iloc[795:]/1000-795\n",
    "        total_crystal = data['2048atom%s' % count][\"FCC\"].iloc[795:]+data['2048atom%s' % count][\"HCP\"].iloc[795:]\n",
    "        y = total_crystal/2048*100\n",
    "        \n",
    "#         linear fit from 25% to 50%\n",
    "        y_25_idx = y[y<22].index[-1]-795\n",
    "        y_50_idx = y[y<51].index[-1]-795\n",
    "        y_fit = y[y_25_idx:y_50_idx]\n",
    "        x_fit = x[y_25_idx:y_50_idx]\n",
    "        try:\n",
    "            linreg = stats.linregress(x_fit,y_fit)\n",
    "#             print(count)\n",
    "#             print(linreg.intercept)\n",
    "#             print(linreg.slope)\n",
    "            delay_first_nucl_2048atom[count-1] = round(-linreg.intercept/linreg.slope)\n",
    "        except ValueError:\n",
    "            delay_first_nucl_2048atom[count-1] = 500\n",
    "        \n",
    "        delay_50_2048atom[count-1]=y[y<50].index[-1]-795\n",
    "        delay_10_2048atom[count-1]=y[y<10].index[-1]-795\n",
    "        ax1[i,i2].plot(x,y)\n",
    "        count = count + 1\n",
    "plt.suptitle('2048 atom isothermal hold')\n",
    "fig1.text(0.5, 0.04, 'Isothermal Hold Time (ps)', ha='center', va='center')\n",
    "fig1.text(0.06, 0.5, 'Atom Percent Crystallized (%)', ha='center', va='center', rotation='vertical')\n",
    "\n",
    "\n",
    "\n",
    "print(\"delay times 50pct (ps): %s\" % delay_50_2048atom)\n",
    "print(\"delay time 50pct average (ps): %s\" % delay_50_2048atom.mean())\n",
    "print(\"delay time 50pct stdev (ps): %s\" % delay_50_2048atom.std())\n",
    "print(\"delay times first nucl (ps): %s\" % delay_first_nucl_2048atom)\n",
    "print(\"delay time first nucl average (ps): %s\" % delay_first_nucl_2048atom.mean())\n",
    "print(\"delay time first nucl stdev (ps): %s\" % delay_first_nucl_2048atom.std())"
   ]
  },
  {
   "cell_type": "code",
   "execution_count": 4,
   "metadata": {},
   "outputs": [
    {
     "data": {
      "application/vnd.jupyter.widget-view+json": {
       "model_id": "1c6cd411fde64626b611343f750e1399",
       "version_major": 2,
       "version_minor": 0
      },
      "text/plain": [
       "FigureCanvasNbAgg()"
      ]
     },
     "metadata": {},
     "output_type": "display_data"
    },
    {
     "name": "stdout",
     "output_type": "stream",
     "text": [
      "delay times 50pct (ps): [ 321.  179.  333.  202.  380.  312.  178.  127.  144.  626.  278.  253.\n",
      "  345.  462.  204.  178.  303.  246.  165.  254.  252.  155. 1000.  344.\n",
      "  224.  485.  526.  426.  309.  184.  245.  526.  116. 1000.  266.  411.\n",
      "  245.  400.  199.  213.  459.  349.  149.  117.  330.  198.  538.  414.\n",
      "  209.  220.]\n",
      "delay time 50pct average (ps): 319.98\n",
      "delay time 50pct stdev (ps): 184.5910604552669\n",
      "delay times first nucl (ps): [  276.   153.   318.   171.   300.   269.   153.   112.   119.   581.\n",
      "   223.   224.   325.   444.   184.   159.   278.   194.   140.   232.\n",
      "   232.   132.   500.   327.   202.   428.   476.   351.   272.   167.\n",
      "   219.   503.    99. -1673.   256.   393.   210.   368.   183.   175.\n",
      "   443.   315.   125.    98.   239.   181.   518.   394.   196.   203.]\n",
      "delay time first nucl average (ps): 227.74\n",
      "delay time first nucl stdev (ps): 297.58244639091197\n"
     ]
    }
   ],
   "source": [
    "fig2,ax2 = plt.subplots(10,5,sharex=True,sharey=True)\n",
    "ax2[0][0].locator_params(nbins=5,axis='x')\n",
    "ax2[0][0].locator_params(nbins=4,axis='y')\n",
    "count = 1\n",
    "delay_50_4000atom = np.zeros(50)\n",
    "delay_10_4000atom = np.zeros(50)\n",
    "delay_first_nucl_4000atom = np.zeros(50)\n",
    "for i in range(10):\n",
    "    for i2 in range (5):\n",
    "        x = data['4000atom%s' % count][\"Timestep\"].iloc[795:]/1000-795\n",
    "        total_crystal = data['4000atom%s' % count][\"FCC\"].iloc[795:]+data['4000atom%s' % count][\"HCP\"].iloc[795:]\n",
    "        y = total_crystal/4000*100\n",
    "        \n",
    "#         linear fit from 25% to 50%\n",
    "        y_25_idx = y[y<22].index[-1]-795\n",
    "        y_50_idx = y[y<51].index[-1]-795\n",
    "        y_fit = y[y_25_idx:y_50_idx]\n",
    "        x_fit = x[y_25_idx:y_50_idx]\n",
    "        try:\n",
    "            linreg = stats.linregress(x_fit,y_fit)\n",
    "#             print(count)\n",
    "#             print(linreg.intercept)\n",
    "#             print(linreg.slope)\n",
    "            delay_first_nucl_4000atom[count-1] = round(-linreg.intercept/linreg.slope)\n",
    "        except ValueError:\n",
    "            delay_first_nucl_4000atom[count-1] = 500\n",
    "        \n",
    "        delay_50_4000atom[count-1]=y[y<50].index[-1]-795\n",
    "        delay_10_4000atom[count-1]=y[y<10].index[-1]-795\n",
    "        ax2[i,i2].plot(x,y)\n",
    "        count = count + 1\n",
    "plt.suptitle('4000 atom isothermal hold')\n",
    "fig2.text(0.5, 0.04, 'Isothermal Hold Time (ps)', ha='center', va='center')\n",
    "fig2.text(0.06, 0.5, 'Atom Percent Crystallized (%)', ha='center', va='center', rotation='vertical')\n",
    "\n",
    "\n",
    "\n",
    "print(\"delay times 50pct (ps): %s\" % delay_50_4000atom)\n",
    "print(\"delay time 50pct average (ps): %s\" % delay_50_4000atom.mean())\n",
    "print(\"delay time 50pct stdev (ps): %s\" % delay_50_4000atom.std())\n",
    "print(\"delay times first nucl (ps): %s\" % delay_first_nucl_4000atom)\n",
    "print(\"delay time first nucl average (ps): %s\" % delay_first_nucl_4000atom.mean())\n",
    "print(\"delay time first nucl stdev (ps): %s\" % delay_first_nucl_4000atom.std())"
   ]
  },
  {
   "cell_type": "code",
   "execution_count": 5,
   "metadata": {},
   "outputs": [
    {
     "data": {
      "application/vnd.jupyter.widget-view+json": {
       "model_id": "6fabfb65b74541bfa10ce4091c513df7",
       "version_major": 2,
       "version_minor": 0
      },
      "text/plain": [
       "FigureCanvasNbAgg()"
      ]
     },
     "metadata": {},
     "output_type": "display_data"
    },
    {
     "name": "stdout",
     "output_type": "stream",
     "text": [
      "delay times 50pct (ps): [203. 154. 264. 163. 190. 247. 203. 267. 220. 266.]\n",
      "delay time 50pct average (ps): 217.7\n",
      "delay time 50pct stdev (ps): 40.02511711413222\n",
      "delay times first nucl (ps): [164. 111. 187. 127. 156. 198. 155. 226. 173. 178.]\n",
      "delay time first nucl average (ps): 167.5\n",
      "delay time first nucl stdev (ps): 31.633052334544004\n"
     ]
    }
   ],
   "source": [
    "fig3,ax3 = plt.subplots(5,2,sharex=True,sharey=True)\n",
    "ax3[0][0].locator_params(nbins=10,axis='x')\n",
    "ax3[0][0].locator_params(nbins=4,axis='y')\n",
    "count = 1\n",
    "delay_50_19652atom = np.zeros(10)\n",
    "delay_10_19652atom = np.zeros(10)\n",
    "delay_first_nucl_19652atom = np.zeros(10)\n",
    "for i in range(5):\n",
    "    for i2 in range (2):\n",
    "        x = data['19652atom%s' % count][\"Timestep\"].iloc[795:]/1000-795\n",
    "        total_crystal = data['19652atom%s' % count][\"FCC\"].iloc[795:]+data['19652atom%s' % count][\"HCP\"].iloc[795:]\n",
    "        y = total_crystal/19652*100\n",
    "        \n",
    "#         linear fit from 25% to 50%\n",
    "        y_25_idx = y[y<22].index[-1]-795\n",
    "        y_50_idx = y[y<51].index[-1]-795\n",
    "        y_fit = y[y_25_idx:y_50_idx]\n",
    "        x_fit = x[y_25_idx:y_50_idx]\n",
    "        try:\n",
    "            linreg = stats.linregress(x_fit,y_fit)\n",
    "#             print(count)\n",
    "#             print(linreg.intercept)\n",
    "#             print(linreg.slope)\n",
    "            delay_first_nucl_19652atom[count-1] = round(-linreg.intercept/linreg.slope)\n",
    "        except ValueError:\n",
    "            delay_first_nucl_19652atom[count-1] = 500\n",
    "        \n",
    "        delay_50_19652atom[count-1]=y[y<50].index[-1]-795\n",
    "        delay_10_19652atom[count-1]=y[y<10].index[-1]-795\n",
    "        ax3[i,i2].plot(x,y)\n",
    "        count = count + 1\n",
    "plt.suptitle('19652 atom isothermal hold')\n",
    "fig3.text(0.5, 0.04, 'Isothermal Hold Time (ps)', ha='center', va='center')\n",
    "fig3.text(0.06, 0.5, 'Atom Percent Crystallized (%)', ha='center', va='center', rotation='vertical')\n",
    "\n",
    "\n",
    "\n",
    "print(\"delay times 50pct (ps): %s\" % delay_50_19652atom)\n",
    "print(\"delay time 50pct average (ps): %s\" % delay_50_19652atom.mean())\n",
    "print(\"delay time 50pct stdev (ps): %s\" % delay_50_19652atom.std())\n",
    "print(\"delay times first nucl (ps): %s\" % delay_first_nucl_19652atom)\n",
    "print(\"delay time first nucl average (ps): %s\" % delay_first_nucl_19652atom.mean())\n",
    "print(\"delay time first nucl stdev (ps): %s\" % delay_first_nucl_19652atom.std())"
   ]
  },
  {
   "cell_type": "code",
   "execution_count": 6,
   "metadata": {},
   "outputs": [],
   "source": [
    "delay_50_42592atom = np.zeros(5)\n",
    "delay_10_42592atom = np.array([210., 190., 284., 217., 250.])\n",
    "delay_first_nucl_42592atom = np.zeros(5)\n",
    "delay_50_42592atom[0:5]=[210., 190., 284., 217., 250.]\n",
    "delay_first_nucl_42592atom[0:5]=[158., 125., 182., 147., 147.]"
   ]
  },
  {
   "cell_type": "code",
   "execution_count": 7,
   "metadata": {
    "scrolled": true
   },
   "outputs": [],
   "source": [
    "# fig2,ax2 = plt.subplots(1,1)\n",
    "# plt.plot(data['864atom'][\"Timestep\"],data['864atom'][\"BCC\"])\n",
    "# fig3,ax3 = plt.subplots(1,1)\n",
    "# figure3 = plt.plot(data['864atom'][\"Timestep\"],data['864atom'][\"HCP\"])"
   ]
  },
  {
   "cell_type": "code",
   "execution_count": 8,
   "metadata": {},
   "outputs": [],
   "source": [
    "num_atoms= np.array([2048,4000,19652,42592])\n",
    "avg_50pct_delay=np.array([delay_50_2048atom.mean(),delay_50_4000atom.mean(),delay_50_19652atom.mean(),delay_50_42592atom.mean()])\n",
    "avg_10pct_delay=np.array([delay_10_2048atom.mean(),delay_10_4000atom.mean(),delay_10_19652atom.mean(),delay_10_42592atom.mean()])\n",
    "avg_firstnucl_delay=np.array([delay_first_nucl_2048atom.mean(),delay_first_nucl_4000atom.mean(),delay_first_nucl_19652atom.mean(),delay_first_nucl_42592atom.mean()])\n",
    "stdev_50pct_delay=np.array([delay_50_2048atom.std(),delay_50_4000atom.std(),delay_50_19652atom.std(),delay_50_42592atom.std()])\n",
    "stdev_10pct_delay=np.array([delay_10_2048atom.std(),delay_10_4000atom.std(),delay_10_19652atom.std(),delay_10_42592atom.std()])\n",
    "stdev_firstnucl_delay=np.array([delay_first_nucl_2048atom.std(),delay_first_nucl_4000atom.std(),delay_first_nucl_19652atom.std(),delay_first_nucl_42592atom.std()])\n",
    "stderr_50pct_delay=stdev_50pct_delay/np.sqrt([100,50,10,5])\n",
    "stderr_10pct_delay=stdev_10pct_delay/np.sqrt([100,50,10,5])\n",
    "stderr_firstnucl_delay=stdev_firstnucl_delay/np.sqrt([100,50,10,5])"
   ]
  },
  {
   "cell_type": "code",
   "execution_count": 9,
   "metadata": {},
   "outputs": [
    {
     "data": {
      "application/vnd.jupyter.widget-view+json": {
       "model_id": "4686ec48470241319d0cb87e18367668",
       "version_major": 2,
       "version_minor": 0
      },
      "text/plain": [
       "FigureCanvasNbAgg()"
      ]
     },
     "metadata": {},
     "output_type": "display_data"
    },
    {
     "data": {
      "text/plain": [
       "Text(0.5,0.98,'Standard Deviation')"
      ]
     },
     "execution_count": 9,
     "metadata": {},
     "output_type": "execute_result"
    }
   ],
   "source": [
    "fig4,ax4 = plt.subplots(1,1,sharex=True,sharey=True)\n",
    "ax4.errorbar(num_atoms,avg_50pct_delay,yerr=stdev_50pct_delay)\n",
    "ax4.errorbar(num_atoms,avg_10pct_delay,yerr=stdev_10pct_delay)\n",
    "ax4.errorbar(num_atoms,avg_firstnucl_delay,yerr=stdev_firstnucl_delay)\n",
    "\n",
    "fig4.text(0.5, 0.04, 'Number of Atoms in Simulation', ha='center', va='center')\n",
    "fig4.text(0.06, 0.5, 'Average Delay Time (ps)', ha='center', va='center', rotation='vertical')\n",
    "\n",
    "ax4.locator_params(nbins=10,axis='x')\n",
    "ax4.locator_params(nbins=6,axis='y')\n",
    "\n",
    "fig4.legend([\"50pct\",\"10pct\",\"first nucl\"],loc=(0.5,0.5))\n",
    "plt.suptitle('Standard Deviation')"
   ]
  },
  {
   "cell_type": "code",
   "execution_count": 10,
   "metadata": {},
   "outputs": [
    {
     "data": {
      "application/vnd.jupyter.widget-view+json": {
       "model_id": "c18d99ce2b2e4f2a9657984130dee90c",
       "version_major": 2,
       "version_minor": 0
      },
      "text/plain": [
       "FigureCanvasNbAgg()"
      ]
     },
     "metadata": {},
     "output_type": "display_data"
    },
    {
     "name": "stdout",
     "output_type": "stream",
     "text": [
      "std err: [26.80840868 22.3556876  10.32806855 14.81188712]\n"
     ]
    },
    {
     "data": {
      "text/plain": [
       "Text(0.5,0.98,'Standard error in the mean')"
      ]
     },
     "execution_count": 10,
     "metadata": {},
     "output_type": "execute_result"
    }
   ],
   "source": [
    "fig5,ax5 = plt.subplots(1,1,sharex=True,sharey=True)\n",
    "ax5.errorbar(num_atoms,avg_50pct_delay,yerr=stderr_50pct_delay)\n",
    "ax5.errorbar(num_atoms,avg_10pct_delay,yerr=stderr_10pct_delay)\n",
    "ax5.errorbar(num_atoms,avg_firstnucl_delay,yerr=stderr_firstnucl_delay)\n",
    "\n",
    "fig5.text(0.5, 0.04, 'Number of Atoms in Simulation', ha='center', va='center')\n",
    "fig5.text(0.06, 0.5, 'Average Delay Time (ps)', ha='center', va='center', rotation='vertical')\n",
    "\n",
    "ax5.locator_params(nbins=10,axis='x')\n",
    "ax5.locator_params(nbins=6,axis='y')\n",
    "\n",
    "print(\"std err: %s\" % stderr_10pct_delay)\n",
    "\n",
    "fig5.legend([\"50pct\",\"10pct\",\"first nucl\"],loc=10)\n",
    "plt.suptitle('Standard error in the mean')"
   ]
  },
  {
   "cell_type": "code",
   "execution_count": null,
   "metadata": {},
   "outputs": [],
   "source": []
  },
  {
   "cell_type": "code",
   "execution_count": null,
   "metadata": {},
   "outputs": [],
   "source": []
  }
 ],
 "metadata": {
  "kernelspec": {
   "display_name": "Python [conda env:ML]",
   "language": "python",
   "name": "conda-env-ML-py"
  },
  "language_info": {
   "codemirror_mode": {
    "name": "ipython",
    "version": 3
   },
   "file_extension": ".py",
   "mimetype": "text/x-python",
   "name": "python",
   "nbconvert_exporter": "python",
   "pygments_lexer": "ipython3",
   "version": "3.6.5"
  }
 },
 "nbformat": 4,
 "nbformat_minor": 2
}
